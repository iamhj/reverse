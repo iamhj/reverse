{
 "cells": [
  {
   "cell_type": "markdown",
   "metadata": {
    "collapsed": false,
    "jupyter": {
     "outputs_hidden": false
    }
   },
   "source": [
    "# 笔记本"
   ]
  },
  {
   "cell_type": "markdown",
   "metadata": {
    "collapsed": false,
    "jupyter": {
     "outputs_hidden": false
    }
   },
   "source": [
    "## 逆向分析"
   ]
  },
  {
   "cell_type": "markdown",
   "metadata": {
    "collapsed": false,
    "jupyter": {
     "outputs_hidden": false
    }
   },
   "source": [
    "### 1.中关村"
   ]
  },
  {
   "cell_type": "code",
   "execution_count": 59,
   "metadata": {
    "collapsed": false,
    "jupyter": {
     "outputs_hidden": false
    },
    "ExecuteTime": {
     "end_time": "2024-08-14T09:33:09.964864600Z",
     "start_time": "2024-08-14T09:33:08.702800400Z"
    }
   },
   "outputs": [
    {
     "name": "stdout",
     "output_type": "stream",
     "text": [
      "{'info': 'error', 'msg': '验证码有误', 'ext': 'errCode'}\n",
      "<Response [200]>\n"
     ]
    }
   ],
   "source": [
    "import requests\n",
    "import hashlib\n",
    "import json\n",
    "\n",
    "\n",
    "headers = {\n",
    "    \"accept\": \"*/*\",\n",
    "    \"accept-language\": \"zh-CN,zh;q=0.9\",\n",
    "    \"content-type\": \"application/x-www-form-urlencoded\",\n",
    "    \"origin\": \"https://service.zol.com.cn\",\n",
    "    \"priority\": \"u=1, i\",\n",
    "    \"referer\": \"https://service.zol.com.cn/user/login.php?backurl=https%3A%2F%2Fwww.zol.com.cn%2F\",\n",
    "    \"sec-ch-ua\": \"\\\"Not)A;Brand\\\";v=\\\"99\\\", \\\"Google Chrome\\\";v=\\\"127\\\", \\\"Chromium\\\";v=\\\"127\\\"\",\n",
    "    \"sec-ch-ua-mobile\": \"?0\",\n",
    "    \"sec-ch-ua-platform\": \"\\\"Windows\\\"\",\n",
    "    \"sec-fetch-dest\": \"empty\",\n",
    "    \"sec-fetch-mode\": \"cors\",\n",
    "    \"sec-fetch-site\": \"same-origin\",\n",
    "    \"user-agent\": \"Mozilla/5.0 (Windows NT 10.0; Win64; x64) AppleWebKit/537.36 (KHTML, like Gecko) Chrome/127.0.0.0 Safari/537.36\"\n",
    "}\n",
    "cookies = {\n",
    "    \"ip_ck\": \"7sCA4/nwj7QuOTcxNDM3LjE3MjM2MTE0MzE%3D\",\n",
    "    \"lv\": \"1723611431\",\n",
    "    \"vn\": \"1\",\n",
    "    \"Hm_lvt_ae5edc2bc4fc71370807f6187f0a2dd0\": \"1723611432\",\n",
    "    \"HMACCOUNT\": \"43B4F4F450B34317\",\n",
    "    \"z_pro_city\": \"s_provice%3Djiangxi%26s_city%3Dnanchangshi\",\n",
    "    \"z_day\": \"ixgo20%3D1\",\n",
    "    \"Hm_lpvt_ae5edc2bc4fc71370807f6187f0a2dd0\": \"1723611530\",\n",
    "    \"questionnaire_pv\": \"1723593602\"\n",
    "}\n",
    "url = \"https://service.zol.com.cn/user/ajax/login2014/login.php\"\n",
    "data = {\n",
    "    # \"userid\": \"18012341234\",\n",
    "    # \"pwd\": \"19560b4e2d9a31ffa80741634935ca88\",\n",
    "    \"is_auto\": \"1\",\n",
    "    \"backUrl\": \"https://www.zol.com.cn/\",\n",
    "    \"checkCode\": \"1\",\n",
    "    \"code\": \"e85c\"\n",
    "}\n",
    "response = requests.post(url, headers=headers, cookies=cookies, data=data)\n",
    "\n",
    "# md5函数\n",
    "def calculate_md5(string):\n",
    "    # 创建md5对象\n",
    "    md5 = hashlib.md5()\n",
    "\n",
    "    # 需要确保待加密的字符串为byte类型\n",
    "    md5.update(string.encode('utf-8'))\n",
    "\n",
    "    # 返回16进制加密结果\n",
    "    return md5.hexdigest()\n",
    "\n",
    "# 函数用于解码字典中的所有字符串值\n",
    "def decode_dict(t):\n",
    "    for key, value in t.items():\n",
    "        if isinstance(value, str):\n",
    "            # 将Unicode转义序列转换为对应的字符\n",
    "            t[key] = value.encode('unicode_escape').decode('unicode_escape')\n",
    "    return t\n",
    "\n",
    "userid = \"18079014431\"\n",
    "password = \"zxcvbnm123\"\n",
    "original_string = password + \"zol\"\n",
    "md5_result = calculate_md5(original_string)\n",
    "data.update({\"userid\":userid, \"pwd\":md5_result})\n",
    "\n",
    "\n",
    "print(decode_dict(json.loads(response.text)))\n",
    "print(response)"
   ]
  },
  {
   "cell_type": "markdown",
   "source": [
    "## wx文章"
   ],
   "metadata": {
    "collapsed": false
   }
  },
  {
   "cell_type": "code",
   "execution_count": 60,
   "metadata": {
    "collapsed": false,
    "jupyter": {
     "outputs_hidden": false
    },
    "ExecuteTime": {
     "end_time": "2024-08-14T09:33:13.590750100Z",
     "start_time": "2024-08-14T09:33:09.972864Z"
    }
   },
   "outputs": [],
   "source": [
    "from selenium import webdriver\n",
    "from selenium.webdriver.chrome.service import Service\n",
    "from webdriver_manager.chrome import ChromeDriverManager\n",
    "from selenium.webdriver.common.by import By\n",
    "from selenium.webdriver.chrome.options import Options\n",
    "from selenium.webdriver.support.ui import WebDriverWait\n",
    "from selenium.webdriver.support import expected_conditions as EC\n",
    "from bs4 import BeautifulSoup\n",
    "import time\n",
    "import re\n",
    "\n",
    "# CHROMEDRIVER_PATH = ChromeDriverManager().install()\n",
    "CHROMEDRIVER_PATH = 'C:\\\\Users\\\\hj\\\\.wdm\\\\drivers\\\\chromedriver\\\\win64\\\\127.0.6533.119\\\\chromedriver-win32/chromedriver.exe'\n",
    "# ChromeDriverManagermirror='https://npm.taobao.org/mirrors/chromedriver').install()\n",
    "chrome_options = Options()\n",
    "chrome_options.add_argument(\"--headless\")\n",
    "driver = webdriver.Chrome(service=Service(CHROMEDRIVER_PATH), options=chrome_options)\n",
    "# driver.quit()"
   ]
  },
  {
   "cell_type": "code",
   "execution_count": 63,
   "metadata": {
    "collapsed": false,
    "jupyter": {
     "outputs_hidden": false
    },
    "ExecuteTime": {
     "end_time": "2024-08-14T09:36:33.483798600Z",
     "start_time": "2024-08-14T09:34:47.829113300Z"
    }
   },
   "outputs": [],
   "source": [
    "from selenium.webdriver.common.keys import Keys\n",
    "import csv\n",
    "\n",
    "driver.get('https://mp.weixin.qq.com/mp/appmsgalbum?__biz=MzI4MDA4MjkzMg==&action=getalbum&album_id=2951724196211261441&scene=173&subscene=91&sessionid=1716004320&enterid=1716004449&from_msgid=2649354407&from_itemidx=1&count=3&nolastread=1&devicetype=android-34&version=2800313b&lang=zh_CN&nettype=ctnet&ascene=78&pass_ticket=995AeDZoSX1r8hNxJg22Ho5XI2dCLiGXb7y7yV%2F%2FTfocRot%2FCjYHShLNQCTsqxDOhGyu26eEMnCT068g2b2wDQ%3D%3D&wx_header=3')\n",
    "time.sleep(3)\n",
    "scroll_bar = driver.find_element(By.TAG_NAME, \"body\")\n",
    "for i in range(60):\n",
    "    scroll_bar.send_keys(Keys.PAGE_DOWN)\n",
    "    time.sleep(1.5)\n",
    "bs = BeautifulSoup(driver.page_source, 'html.parser')\n",
    "lis = bs.find_all('li', class_='album__list-item')\n"
   ]
  },
  {
   "cell_type": "code",
   "execution_count": 66,
   "outputs": [
    {
     "ename": "InvalidSessionIdException",
     "evalue": "Message: invalid session id\nStacktrace:\n\tGetHandleVerifier [0x00C38923+23283]\n\t(No symbol) [0x00BFE934]\n\t(No symbol) [0x00B305AD]\n\t(No symbol) [0x00B6737B]\n\t(No symbol) [0x00B9428A]\n\t(No symbol) [0x00B8F785]\n\t(No symbol) [0x00B8F044]\n\t(No symbol) [0x00B046BD]\n\t(No symbol) [0x00B04A9E]\n\t(No symbol) [0x00B04F2D]\n\tGetHandleVerifier [0x00D2A5F3+1013699]\n\tGetHandleVerifier [0x00D33E4C+1052700]\n\tGetHandleVerifier [0x00D2D4B4+1025668]\n\tGetHandleVerifier [0x00C5EA2B+179195]\n\t(No symbol) [0x00C06833]\n\t(No symbol) [0x00B04397]\n\t(No symbol) [0x00B03CC1]\n\tGetHandleVerifier [0x00D4FFEC+1167804]\n\tBaseThreadInitThunk [0x771FFCC9+25]\n\tRtlGetAppContainerNamedObjectPath [0x779880CE+286]\n\tRtlGetAppContainerNamedObjectPath [0x7798809E+238]\n",
     "output_type": "error",
     "traceback": [
      "\u001B[1;31m---------------------------------------------------------------------------\u001B[0m",
      "\u001B[1;31mInvalidSessionIdException\u001B[0m                 Traceback (most recent call last)",
      "Cell \u001B[1;32mIn[66], line 9\u001B[0m\n\u001B[0;32m      6\u001B[0m         link \u001B[38;5;241m=\u001B[39m li\u001B[38;5;241m.\u001B[39mget(\u001B[38;5;124m'\u001B[39m\u001B[38;5;124mdata-link\u001B[39m\u001B[38;5;124m'\u001B[39m)\n\u001B[0;32m      7\u001B[0m         writer\u001B[38;5;241m.\u001B[39mwriterow([link])  \u001B[38;5;66;03m# 写入数据行\u001B[39;00m\n\u001B[1;32m----> 9\u001B[0m \u001B[43mdriver\u001B[49m\u001B[38;5;241;43m.\u001B[39;49m\u001B[43mclose\u001B[49m\u001B[43m(\u001B[49m\u001B[43m)\u001B[49m\n",
      "File \u001B[1;32mD:\\Python\\Python312\\Lib\\site-packages\\selenium\\webdriver\\remote\\webdriver.py:465\u001B[0m, in \u001B[0;36mWebDriver.close\u001B[1;34m(self)\u001B[0m\n\u001B[0;32m    457\u001B[0m \u001B[38;5;28;01mdef\u001B[39;00m \u001B[38;5;21mclose\u001B[39m(\u001B[38;5;28mself\u001B[39m) \u001B[38;5;241m-\u001B[39m\u001B[38;5;241m>\u001B[39m \u001B[38;5;28;01mNone\u001B[39;00m:\n\u001B[0;32m    458\u001B[0m \u001B[38;5;250m    \u001B[39m\u001B[38;5;124;03m\"\"\"Closes the current window.\u001B[39;00m\n\u001B[0;32m    459\u001B[0m \n\u001B[0;32m    460\u001B[0m \u001B[38;5;124;03m    :Usage:\u001B[39;00m\n\u001B[1;32m   (...)\u001B[0m\n\u001B[0;32m    463\u001B[0m \u001B[38;5;124;03m            driver.close()\u001B[39;00m\n\u001B[0;32m    464\u001B[0m \u001B[38;5;124;03m    \"\"\"\u001B[39;00m\n\u001B[1;32m--> 465\u001B[0m     \u001B[38;5;28;43mself\u001B[39;49m\u001B[38;5;241;43m.\u001B[39;49m\u001B[43mexecute\u001B[49m\u001B[43m(\u001B[49m\u001B[43mCommand\u001B[49m\u001B[38;5;241;43m.\u001B[39;49m\u001B[43mCLOSE\u001B[49m\u001B[43m)\u001B[49m\n",
      "File \u001B[1;32mD:\\Python\\Python312\\Lib\\site-packages\\selenium\\webdriver\\remote\\webdriver.py:354\u001B[0m, in \u001B[0;36mWebDriver.execute\u001B[1;34m(self, driver_command, params)\u001B[0m\n\u001B[0;32m    352\u001B[0m response \u001B[38;5;241m=\u001B[39m \u001B[38;5;28mself\u001B[39m\u001B[38;5;241m.\u001B[39mcommand_executor\u001B[38;5;241m.\u001B[39mexecute(driver_command, params)\n\u001B[0;32m    353\u001B[0m \u001B[38;5;28;01mif\u001B[39;00m response:\n\u001B[1;32m--> 354\u001B[0m     \u001B[38;5;28;43mself\u001B[39;49m\u001B[38;5;241;43m.\u001B[39;49m\u001B[43merror_handler\u001B[49m\u001B[38;5;241;43m.\u001B[39;49m\u001B[43mcheck_response\u001B[49m\u001B[43m(\u001B[49m\u001B[43mresponse\u001B[49m\u001B[43m)\u001B[49m\n\u001B[0;32m    355\u001B[0m     response[\u001B[38;5;124m\"\u001B[39m\u001B[38;5;124mvalue\u001B[39m\u001B[38;5;124m\"\u001B[39m] \u001B[38;5;241m=\u001B[39m \u001B[38;5;28mself\u001B[39m\u001B[38;5;241m.\u001B[39m_unwrap_value(response\u001B[38;5;241m.\u001B[39mget(\u001B[38;5;124m\"\u001B[39m\u001B[38;5;124mvalue\u001B[39m\u001B[38;5;124m\"\u001B[39m, \u001B[38;5;28;01mNone\u001B[39;00m))\n\u001B[0;32m    356\u001B[0m     \u001B[38;5;28;01mreturn\u001B[39;00m response\n",
      "File \u001B[1;32mD:\\Python\\Python312\\Lib\\site-packages\\selenium\\webdriver\\remote\\errorhandler.py:229\u001B[0m, in \u001B[0;36mErrorHandler.check_response\u001B[1;34m(self, response)\u001B[0m\n\u001B[0;32m    227\u001B[0m         alert_text \u001B[38;5;241m=\u001B[39m value[\u001B[38;5;124m\"\u001B[39m\u001B[38;5;124malert\u001B[39m\u001B[38;5;124m\"\u001B[39m]\u001B[38;5;241m.\u001B[39mget(\u001B[38;5;124m\"\u001B[39m\u001B[38;5;124mtext\u001B[39m\u001B[38;5;124m\"\u001B[39m)\n\u001B[0;32m    228\u001B[0m     \u001B[38;5;28;01mraise\u001B[39;00m exception_class(message, screen, stacktrace, alert_text)  \u001B[38;5;66;03m# type: ignore[call-arg]  # mypy is not smart enough here\u001B[39;00m\n\u001B[1;32m--> 229\u001B[0m \u001B[38;5;28;01mraise\u001B[39;00m exception_class(message, screen, stacktrace)\n",
      "\u001B[1;31mInvalidSessionIdException\u001B[0m: Message: invalid session id\nStacktrace:\n\tGetHandleVerifier [0x00C38923+23283]\n\t(No symbol) [0x00BFE934]\n\t(No symbol) [0x00B305AD]\n\t(No symbol) [0x00B6737B]\n\t(No symbol) [0x00B9428A]\n\t(No symbol) [0x00B8F785]\n\t(No symbol) [0x00B8F044]\n\t(No symbol) [0x00B046BD]\n\t(No symbol) [0x00B04A9E]\n\t(No symbol) [0x00B04F2D]\n\tGetHandleVerifier [0x00D2A5F3+1013699]\n\tGetHandleVerifier [0x00D33E4C+1052700]\n\tGetHandleVerifier [0x00D2D4B4+1025668]\n\tGetHandleVerifier [0x00C5EA2B+179195]\n\t(No symbol) [0x00C06833]\n\t(No symbol) [0x00B04397]\n\t(No symbol) [0x00B03CC1]\n\tGetHandleVerifier [0x00D4FFEC+1167804]\n\tBaseThreadInitThunk [0x771FFCC9+25]\n\tRtlGetAppContainerNamedObjectPath [0x779880CE+286]\n\tRtlGetAppContainerNamedObjectPath [0x7798809E+238]\n"
     ]
    }
   ],
   "source": [
    "with open(\"links.csv\", \"w\", newline=\"\", encoding='utf-8') as file:\n",
    "    writer = csv.writer(file)\n",
    "    writer.writerow([\"链接\"])  # 写入标题行\n",
    "    for li in lis:\n",
    "        # pos_num = li.get('data-pos_num')\n",
    "        link = li.get('data-link')\n",
    "        writer.writerow([link])  # 写入数据行\n"
   ],
   "metadata": {
    "collapsed": false,
    "ExecuteTime": {
     "end_time": "2024-08-14T09:38:17.834475Z",
     "start_time": "2024-08-14T09:38:17.616735300Z"
    }
   }
  },
  {
   "cell_type": "code",
   "execution_count": 74,
   "metadata": {
    "ExecuteTime": {
     "end_time": "2024-08-14T09:52:42.450228400Z",
     "start_time": "2024-08-14T09:52:36.863034400Z"
    }
   },
   "outputs": [
    {
     "ename": "ValueError",
     "evalue": "I/O operation on closed file.",
     "output_type": "error",
     "traceback": [
      "\u001B[1;31m---------------------------------------------------------------------------\u001B[0m",
      "\u001B[1;31mValueError\u001B[0m                                Traceback (most recent call last)",
      "Cell \u001B[1;32mIn[74], line 39\u001B[0m\n\u001B[0;32m     36\u001B[0m     \u001B[38;5;28;01mreturn\u001B[39;00m \u001B[38;5;28mbool\u001B[39m(re\u001B[38;5;241m.\u001B[39mmatch(pattern, s))\n\u001B[0;32m     38\u001B[0m links \u001B[38;5;241m=\u001B[39m read_csv(\u001B[38;5;124m'\u001B[39m\u001B[38;5;124mlinks.csv\u001B[39m\u001B[38;5;124m'\u001B[39m)\n\u001B[1;32m---> 39\u001B[0m \u001B[38;5;28;43;01mfor\u001B[39;49;00m\u001B[43m \u001B[49m\u001B[43mlink\u001B[49m\u001B[43m \u001B[49m\u001B[38;5;129;43;01min\u001B[39;49;00m\u001B[43m \u001B[49m\u001B[43mlinks\u001B[49m\u001B[43m:\u001B[49m\n\u001B[0;32m     40\u001B[0m \u001B[43m    \u001B[49m\u001B[38;5;66;43;03m# url = 'https://mp.weixin.qq.com/s?__biz=MzI4MDA4MjkzMg==&mid=2649355525&idx=1&sn=33c4e8a043e9067db7171472a6a17af0&chksm=f3a0b59ec4d73c886f51d3a41f635da6f7e4534719d4a89a327e7bbf7ee8aa5ab4ce90dcdf1d&scene=178&cur_album_id=2951724196211261441#rd'\u001B[39;49;00m\n\u001B[0;32m     41\u001B[0m \u001B[43m    \u001B[49m\u001B[43mdriver\u001B[49m\u001B[38;5;241;43m.\u001B[39;49m\u001B[43mget\u001B[49m\u001B[43m(\u001B[49m\u001B[43mlink\u001B[49m\u001B[43m)\u001B[49m\n\u001B[0;32m     42\u001B[0m \u001B[43m    \u001B[49m\u001B[43mtime\u001B[49m\u001B[38;5;241;43m.\u001B[39;49m\u001B[43msleep\u001B[49m\u001B[43m(\u001B[49m\u001B[38;5;241;43m5\u001B[39;49m\u001B[43m)\u001B[49m\n",
      "\u001B[1;31mValueError\u001B[0m: I/O operation on closed file."
     ]
    }
   ],
   "source": [
    "from selenium import webdriver\n",
    "from selenium.webdriver.chrome.service import Service\n",
    "from webdriver_manager.chrome import ChromeDriverManager\n",
    "from selenium.webdriver.common.by import By\n",
    "from selenium.webdriver.chrome.options import Options\n",
    "from selenium.webdriver.support.ui import WebDriverWait\n",
    "from selenium.webdriver.support import expected_conditions as EC\n",
    "from bs4 import BeautifulSoup\n",
    "import time\n",
    "import re\n",
    "\n",
    "# CHROMEDRIVER_PATH = ChromeDriverManager().install()\n",
    "CHROMEDRIVER_PATH = 'C:\\\\Users\\\\hj\\\\.wdm\\\\drivers\\\\chromedriver\\\\win64\\\\127.0.6533.119\\\\chromedriver-win32/chromedriver.exe'\n",
    "# ChromeDriverManagermirror='https://npm.taobao.org/mirrors/chromedriver').install()\n",
    "chrome_options = Options()\n",
    "chrome_options.add_argument(\"--headless\")\n",
    "driver = webdriver.Chrome(service=Service(CHROMEDRIVER_PATH), options=chrome_options)\n",
    "# driver.quit()\n",
    "\n",
    "def read_csv(file_path):\n",
    "    with open(file_path, 'r') as file:\n",
    "        reader = csv.reader(file)\n",
    "        next(reader)  # 跳过第一行\n",
    "        return reader\n",
    "\n",
    "def is_start_with_number(s):\n",
    "    pattern = r'^\\d'\n",
    "    if re.match(pattern, s):\n",
    "        return True\n",
    "    else:\n",
    "        return False\n",
    "\n",
    "def starts_with_chinese_symbol(s):\n",
    "    pattern = r'^【'\n",
    "    # 使用re.match()函数检查字符串是否匹配模式\n",
    "    return bool(re.match(pattern, s))\n",
    "\n",
    "links = read_csv('links.csv')\n",
    "for link in links:\n",
    "    # url = 'https://mp.weixin.qq.com/s?__biz=MzI4MDA4MjkzMg==&mid=2649355525&idx=1&sn=33c4e8a043e9067db7171472a6a17af0&chksm=f3a0b59ec4d73c886f51d3a41f635da6f7e4534719d4a89a327e7bbf7ee8aa5ab4ce90dcdf1d&scene=178&cur_album_id=2951724196211261441#rd'\n",
    "    driver.get(link)\n",
    "    time.sleep(5)\n",
    "    bs = BeautifulSoup(driver.page_source, 'html.parser')\n",
    "    bs.find_all('table')\n",
    "\n",
    "    table = bs.find('table')\n",
    "    sections = table.find_all('section')[1:]\n",
    "    title = []\n",
    "    for section in sections[:-1]:\n",
    "        title.append(section.getText())\n",
    "\n",
    "    sentences = []\n",
    "    details = []\n",
    "    flag = 0\n",
    "    js_content = bs.find('div', id='js_content')\n",
    "    ps = js_content.find_all('p')\n",
    "    content = []\n",
    "    with open(\"articels.csv\", \"a+\", newline=\"\", encoding='utf-8') as file:\n",
    "        writer2 = csv.writer(file)\n",
    "        # writer2.writerow([\"标题\", \"金句\", \"解析\"])  # 写入标题行\n",
    "\n",
    "        for p in ps:\n",
    "            text = p.getText()\n",
    "            if is_start_with_number(text):\n",
    "                sentences.append(text)\n",
    "            elif starts_with_chinese_symbol(text):\n",
    "                details.append(text)\n",
    "            elif text.startswith('本文'):\n",
    "                # print(flag)\n",
    "                # print(title[flag],sentences,details)\n",
    "                writer2.writerow([title[flag],sentences,details])\n",
    "                sentences.clear()\n",
    "                details.clear()\n",
    "                flag = flag + 1\n",
    "            else:\n",
    "                continue\n",
    "    print('解析完成')\n",
    "    driver.close()\n",
    "    break\n",
    "driver.quit()\n",
    "# print(sentences)\n",
    "# print(details)"
   ]
  }
 ],
 "metadata": {
  "kernelspec": {
   "display_name": "Python 3 (ipykernel)",
   "language": "python",
   "name": "python3"
  },
  "language_info": {
   "codemirror_mode": {
    "name": "ipython",
    "version": 3
   },
   "file_extension": ".py",
   "mimetype": "text/x-python",
   "name": "python",
   "nbconvert_exporter": "python",
   "pygments_lexer": "ipython3",
   "version": "3.12.3"
  }
 },
 "nbformat": 4,
 "nbformat_minor": 4
}
