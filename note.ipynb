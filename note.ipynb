{
 "cells": [
  {
   "cell_type": "markdown",
   "metadata": {
    "collapsed": false,
    "jupyter": {
     "outputs_hidden": false
    }
   },
   "source": [
    "# 笔记本"
   ]
  },
  {
   "cell_type": "markdown",
   "metadata": {
    "collapsed": false,
    "jupyter": {
     "outputs_hidden": false
    }
   },
   "source": [
    "## 逆向分析"
   ]
  },
  {
   "cell_type": "markdown",
   "metadata": {
    "collapsed": false,
    "jupyter": {
     "outputs_hidden": false
    }
   },
   "source": [
    "### 1.中关村"
   ]
  },
  {
   "cell_type": "code",
   "execution_count": 2,
   "metadata": {
    "collapsed": false,
    "jupyter": {
     "outputs_hidden": false
    },
    "ExecuteTime": {
     "end_time": "2024-08-14T13:37:38.757991700Z",
     "start_time": "2024-08-14T13:37:38.479120500Z"
    }
   },
   "outputs": [
    {
     "name": "stdout",
     "output_type": "stream",
     "text": [
      "{'info': 'error', 'msg': '验证码有误', 'ext': 'errCode'}\n",
      "<Response [200]>\n",
      "{'info': 'error', 'msg': '验证码有误', 'ext': 'errCode'}\n",
      "<Response [200]>\n"
     ]
    }
   ],
   "source": [
    "import json\n",
    "\n",
    "import requests\n",
    "\n",
    "headers = {\n",
    "    \"accept\": \"*/*\",\n",
    "    \"accept-language\": \"zh-CN,zh;q=0.9\",\n",
    "    \"content-type\": \"application/x-www-form-urlencoded\",\n",
    "    \"origin\": \"https://service.zol.com.cn\",\n",
    "    \"priority\": \"u=1, i\",\n",
    "    \"referer\": \"https://service.zol.com.cn/user/login.php?backurl=https%3A%2F%2Fwww.zol.com.cn%2F\",\n",
    "    \"sec-ch-ua\": \"\\\"Not)A;Brand\\\";v=\\\"99\\\", \\\"Google Chrome\\\";v=\\\"127\\\", \\\"Chromium\\\";v=\\\"127\\\"\",\n",
    "    \"sec-ch-ua-mobile\": \"?0\",\n",
    "    \"sec-ch-ua-platform\": \"\\\"Windows\\\"\",\n",
    "    \"sec-fetch-dest\": \"empty\",\n",
    "    \"sec-fetch-mode\": \"cors\",\n",
    "    \"sec-fetch-site\": \"same-origin\",\n",
    "    \"user-agent\": \"Mozilla/5.0 (Windows NT 10.0; Win64; x64) AppleWebKit/537.36 (KHTML, like Gecko) Chrome/127.0.0.0 Safari/537.36\"\n",
    "}\n",
    "cookies = {\n",
    "    \"ip_ck\": \"7sCA4/nwj7QuOTcxNDM3LjE3MjM2MTE0MzE%3D\",\n",
    "    \"lv\": \"1723611431\",\n",
    "    \"vn\": \"1\",\n",
    "    \"Hm_lvt_ae5edc2bc4fc71370807f6187f0a2dd0\": \"1723611432\",\n",
    "    \"HMACCOUNT\": \"43B4F4F450B34317\",\n",
    "    \"z_pro_city\": \"s_provice%3Djiangxi%26s_city%3Dnanchangshi\",\n",
    "    \"z_day\": \"ixgo20%3D1\",\n",
    "    \"Hm_lpvt_ae5edc2bc4fc71370807f6187f0a2dd0\": \"1723611530\",\n",
    "    \"questionnaire_pv\": \"1723593602\"\n",
    "}\n",
    "url = \"https://service.zol.com.cn/user/ajax/login2014/login.php\"\n",
    "data = {\n",
    "    # \"userid\": \"18012341234\",\n",
    "    # \"pwd\": \"19560b4e2d9a31ffa80741634935ca88\",\n",
    "    \"is_auto\": \"1\",\n",
    "    \"backUrl\": \"https://www.zol.com.cn/\",\n",
    "    \"checkCode\": \"1\",\n",
    "    \"code\": \"e85c\"\n",
    "}\n",
    "response = requests.post(url, headers=headers, cookies=cookies, data=data)\n",
    "\n",
    "\n",
    "# md5函数\n",
    "def calculate_md5(string):\n",
    "    # 创建md5对象\n",
    "    md5 = hashlib.md5()\n",
    "\n",
    "    # 需要确保待加密的字符串为byte类型\n",
    "    md5.update(string.encode('utf-8'))\n",
    "\n",
    "    # 返回16进制加密结果\n",
    "    return md5.hexdigest()\n",
    "\n",
    "\n",
    "# 函数用于解码字典中的所有字符串值\n",
    "def decode_dict(t):\n",
    "    for key, value in t.items():\n",
    "        if isinstance(value, str):\n",
    "            # 将Unicode转义序列转换为对应的字符\n",
    "            t[key] = value.encode('unicode_escape').decode('unicode_escape')\n",
    "    return t\n",
    "\n",
    "\n",
    "userid = \"18079014431\"\n",
    "password = \"zxcvbnm123\"\n",
    "original_string = password + \"zol\"\n",
    "md5_result = calculate_md5(original_string)\n",
    "data.update({\"userid\": userid, \"pwd\": md5_result})\n",
    "\n",
    "print(decode_dict(json.loads(response.text)))\n",
    "print(response)"
   ]
  },
  {
   "cell_type": "markdown",
   "source": [
    "### wx文章"
   ],
   "metadata": {
    "collapsed": false
   }
  },
  {
   "cell_type": "code",
   "execution_count": 10,
   "metadata": {
    "collapsed": false,
    "jupyter": {
     "outputs_hidden": false
    },
    "ExecuteTime": {
     "end_time": "2024-08-14T14:08:02.013025Z",
     "start_time": "2024-08-14T14:07:56.979202700Z"
    }
   },
   "outputs": [],
   "source": [
    "from selenium import webdriver\n",
    "from selenium.webdriver.chrome.service import Service\n",
    "from selenium.webdriver.common.by import By\n",
    "from selenium.webdriver.chrome.options import Options\n",
    "from bs4 import BeautifulSoup\n",
    "import time\n",
    "\n",
    "# CHROMEDRIVER_PATH = ChromeDriverManager().install()\n",
    "CHROMEDRIVER_PATH = \"C:\\\\Users\\\\20456\\\\.wdm\\\\drivers\\\\chromedriver\\\\win64\\\\127.0.6533.119\\\\chromedriver-win32\\\\chromedriver.exe\"\n",
    "# ChromeDriverManagermirror='https://npm.taobao.org/mirrors/chromedriver').install()\n",
    "chrome_options = Options()\n",
    "chrome_options.add_argument(\"--headless\")\n",
    "driver = webdriver.Chrome(service=Service(CHROMEDRIVER_PATH), options=chrome_options)\n",
    "# driver.quit()"
   ]
  },
  {
   "cell_type": "code",
   "execution_count": 11,
   "outputs": [],
   "source": [
    "from selenium.webdriver.common.keys import Keys\n",
    "import csv\n",
    "\n",
    "driver.get(\n",
    "    'https://mp.weixin.qq.com/mp/appmsgalbum?__biz=MzI4MDA4MjkzMg==&action=getalbum&album_id=2951724196211261441&scene=173&subscene=91&sessionid=1716004320&enterid=1716004449&from_msgid=2649354407&from_itemidx=1&count=3&nolastread=1&devicetype=android-34&version=2800313b&lang=zh_CN&nettype=ctnet&ascene=78&pass_ticket=995AeDZoSX1r8hNxJg22Ho5XI2dCLiGXb7y7yV%2F%2FTfocRot%2FCjYHShLNQCTsqxDOhGyu26eEMnCT068g2b2wDQ%3D%3D&wx_header=3')\n",
    "time.sleep(3)\n",
    "scroll_bar = driver.find_element(By.TAG_NAME, \"body\")\n",
    "for i in range(30):\n",
    "    scroll_bar.send_keys(Keys.PAGE_DOWN)\n",
    "    time.sleep(1.5)\n",
    "bs = BeautifulSoup(driver.page_source, 'html.parser')\n",
    "lis = bs.find_all('li', class_='album__list-item')\n",
    "\n",
    "with open(\"links.csv\", \"w\", newline=\"\", encoding='utf-8') as file:\n",
    "    writer = csv.writer(file)\n",
    "    # writer.writerow([\"链接\"])  # 写入标题行\n",
    "    for li in lis:\n",
    "        # pos_num = li.get('data-pos_num')\n",
    "        link = li.get('data-link')\n",
    "        writer.writerow([link])  # 写入数据行\n",
    "\n"
   ],
   "metadata": {
    "collapsed": false,
    "ExecuteTime": {
     "end_time": "2024-08-14T14:09:20.328312800Z",
     "start_time": "2024-08-14T14:08:31.195745300Z"
    }
   }
  },
  {
   "cell_type": "code",
   "execution_count": 41,
   "outputs": [
    {
     "name": "stdout",
     "output_type": "stream",
     "text": [
      "解析进度：24.22%\r"
     ]
    },
    {
     "ename": "AttributeError",
     "evalue": "'NoneType' object has no attribute 'find_all'",
     "output_type": "error",
     "traceback": [
      "\u001B[1;31m---------------------------------------------------------------------------\u001B[0m",
      "\u001B[1;31mAttributeError\u001B[0m                            Traceback (most recent call last)",
      "Cell \u001B[1;32mIn[41], line 49\u001B[0m\n\u001B[0;32m     46\u001B[0m bs\u001B[38;5;241m.\u001B[39mfind_all(\u001B[38;5;124m'\u001B[39m\u001B[38;5;124mtable\u001B[39m\u001B[38;5;124m'\u001B[39m)\n\u001B[0;32m     48\u001B[0m table \u001B[38;5;241m=\u001B[39m bs\u001B[38;5;241m.\u001B[39mfind(\u001B[38;5;124m'\u001B[39m\u001B[38;5;124mtable\u001B[39m\u001B[38;5;124m'\u001B[39m)\n\u001B[1;32m---> 49\u001B[0m sections \u001B[38;5;241m=\u001B[39m \u001B[43mtable\u001B[49m\u001B[38;5;241;43m.\u001B[39;49m\u001B[43mfind_all\u001B[49m(\u001B[38;5;124m'\u001B[39m\u001B[38;5;124msection\u001B[39m\u001B[38;5;124m'\u001B[39m)[\u001B[38;5;241m1\u001B[39m:]\n\u001B[0;32m     50\u001B[0m title \u001B[38;5;241m=\u001B[39m []\n\u001B[0;32m     51\u001B[0m \u001B[38;5;28;01mfor\u001B[39;00m section \u001B[38;5;129;01min\u001B[39;00m sections[:\u001B[38;5;241m-\u001B[39m\u001B[38;5;241m1\u001B[39m]:\n",
      "\u001B[1;31mAttributeError\u001B[0m: 'NoneType' object has no attribute 'find_all'"
     ]
    }
   ],
   "source": [
    "from selenium import webdriver\n",
    "from selenium.webdriver.chrome.service import Service\n",
    "from selenium.webdriver.chrome.options import Options\n",
    "from bs4 import BeautifulSoup\n",
    "import time\n",
    "import re\n",
    "\n",
    "CHROMEDRIVER_PATH = \"C:\\\\Users\\\\20456\\\\.wdm\\\\drivers\\\\chromedriver\\\\win64\\\\127.0.6533.119\\\\chromedriver-win32\\\\chromedriver.exe\"\n",
    "# ChromeDriverManagermirror='https://npm.taobao.org/mirrors/chromedriver').install()\n",
    "chrome_options = Options()\n",
    "chrome_options.add_argument(\"--headless\")\n",
    "driver = webdriver.Chrome(service=Service(CHROMEDRIVER_PATH), options=chrome_options)\n",
    "\n",
    "\n",
    "def read_csv(file_path):\n",
    "    with open(file_path, 'r', encoding='utf-8') as file:\n",
    "        reader = csv.reader(file)\n",
    "        # next(reader)  # 跳过第一行\n",
    "        return list(reader)\n",
    "\n",
    "\n",
    "def is_start_with_number(s):\n",
    "    pattern = r'^\\d'\n",
    "    if re.match(pattern, s):\n",
    "        return True\n",
    "    else:\n",
    "        return False\n",
    "\n",
    "\n",
    "def starts_with_chinese_symbol(s):\n",
    "    pattern = r'^【'\n",
    "    # 使用re.match()函数检查字符串是否匹配模式\n",
    "    return bool(re.match(pattern, s))\n",
    "\n",
    "\n",
    "links = read_csv('links.csv')\n",
    "count = 1\n",
    "total = len(links)\n",
    "\n",
    "for link in links:\n",
    "    # url = 'https://mp.weixin.qq.com/s?__biz=MzI4MDA4MjkzMg==&mid=2649355525&idx=1&sn=33c4e8a043e9067db7171472a6a17af0&chksm=f3a0b59ec4d73c886f51d3a41f635da6f7e4534719d4a89a327e7bbf7ee8aa5ab4ce90dcdf1d&scene=178&cur_album_id=2951724196211261441#rd'\n",
    "    # print(link)\n",
    "    driver.get(link[0])\n",
    "    time.sleep(5)\n",
    "    bs = BeautifulSoup(driver.page_source, 'html.parser')\n",
    "    bs.find_all('table')\n",
    "\n",
    "    table = bs.find('table')\n",
    "    sections = table.find_all('section')[1:]\n",
    "    title = []\n",
    "    for section in sections[:-1]:\n",
    "        title.append(section.getText())\n",
    "\n",
    "    sentences = []\n",
    "    details = []\n",
    "    flag = 0\n",
    "    js_content = bs.find('div', id='js_content')\n",
    "    ps = js_content.find_all('p')\n",
    "    content = []\n",
    "    with open(\"articels2.csv\", \"a+\", newline=\"\", encoding='utf-8') as file:\n",
    "        writer = csv.writer(file)\n",
    "        # writer2.writerow([\"标题\", \"金句\", \"解析\"])  # 写入标题行\n",
    "\n",
    "        for p in ps:\n",
    "            text = p.getText()\n",
    "            if is_start_with_number(text):\n",
    "                sentences.append(text)\n",
    "            elif starts_with_chinese_symbol(text):\n",
    "                details.append(text)\n",
    "            elif text.startswith('本文'):\n",
    "                # print(flag)\n",
    "                # print(title[flag],sentences,details)\n",
    "                # writer.writerow([title[flag],sentences,details])\n",
    "                for i in range(len(sentences)):\n",
    "                    try:\n",
    "                        writer.writerow([title[flag], sentences[i], details[i]])\n",
    "                    except:\n",
    "                        continue\n",
    "                sentences.clear()\n",
    "                details.clear()\n",
    "                flag = flag + 1\n",
    "            else:\n",
    "                continue\n",
    "    print(f'解析进度：{100 * count / total:.2f}%', end='\\r')\n",
    "    count += 1\n",
    "    total += 1\n",
    "    # driver.close()\n",
    "    # break\n",
    "    time.sleep(2)\n",
    "\n",
    "print('解析完成！')\n",
    "driver.quit()"
   ],
   "metadata": {
    "collapsed": false,
    "ExecuteTime": {
     "end_time": "2024-08-14T14:52:16.549415900Z",
     "start_time": "2024-08-14T14:47:00.445457600Z"
    }
   }
  },
  {
   "cell_type": "code",
   "execution_count": 36,
   "outputs": [
    {
     "name": "stdout",
     "output_type": "stream",
     "text": [
      "进度30.0%\r"
     ]
    },
    {
     "ename": "KeyboardInterrupt",
     "evalue": "",
     "output_type": "error",
     "traceback": [
      "\u001B[1;31m---------------------------------------------------------------------------\u001B[0m",
      "\u001B[1;31mKeyboardInterrupt\u001B[0m                         Traceback (most recent call last)",
      "Cell \u001B[1;32mIn[36], line 2\u001B[0m\n\u001B[0;32m      1\u001B[0m \u001B[38;5;28;01mfor\u001B[39;00m i \u001B[38;5;129;01min\u001B[39;00m \u001B[38;5;28mrange\u001B[39m(\u001B[38;5;241m10\u001B[39m):\n\u001B[1;32m----> 2\u001B[0m     \u001B[43mtime\u001B[49m\u001B[38;5;241;43m.\u001B[39;49m\u001B[43msleep\u001B[49m\u001B[43m(\u001B[49m\u001B[38;5;241;43m1\u001B[39;49m\u001B[43m)\u001B[49m\n\u001B[0;32m      3\u001B[0m     \u001B[38;5;28mprint\u001B[39m(\u001B[38;5;124mf\u001B[39m\u001B[38;5;124m'\u001B[39m\u001B[38;5;124m进度\u001B[39m\u001B[38;5;132;01m{\u001B[39;00mi\u001B[38;5;241m*\u001B[39m\u001B[38;5;241m100\u001B[39m\u001B[38;5;241m/\u001B[39m\u001B[38;5;241m10\u001B[39m\u001B[38;5;132;01m}\u001B[39;00m\u001B[38;5;124m%\u001B[39m\u001B[38;5;124m'\u001B[39m, end\u001B[38;5;241m=\u001B[39m\u001B[38;5;124m'\u001B[39m\u001B[38;5;130;01m\\r\u001B[39;00m\u001B[38;5;124m'\u001B[39m)\n",
      "\u001B[1;31mKeyboardInterrupt\u001B[0m: "
     ]
    }
   ],
   "source": [
    "for i in range(10):\n",
    "    time.sleep(1)\n",
    "    print(f'进度{i * 100 / 10}%', end='\\r')"
   ],
   "metadata": {
    "collapsed": false,
    "ExecuteTime": {
     "end_time": "2024-08-14T14:34:30.301067Z",
     "start_time": "2024-08-14T14:34:25.289820500Z"
    }
   }
  },
  {
   "cell_type": "markdown",
   "source": [
    "### 2.逗游"
   ],
   "metadata": {
    "collapsed": false
   }
  },
  {
   "cell_type": "code",
   "execution_count": 31,
   "outputs": [
    {
     "name": "stdout",
     "output_type": "stream",
     "text": [
      "<html>\r\n",
      "<head><title>405 Not Allowed</title></head>\r\n",
      "<body>\r\n",
      "<center><h1>405 Not Allowed</h1></center>\r\n",
      "<hr><center>openresty/1.15.8.3</center>\r\n",
      "</body>\r\n",
      "</html>\r\n",
      "<!-- a padding to disable MSIE and Chrome friendly error page -->\r\n",
      "<!-- a padding to disable MSIE and Chrome friendly error page -->\r\n",
      "<!-- a padding to disable MSIE and Chrome friendly error page -->\r\n",
      "<!-- a padding to disable MSIE and Chrome friendly error page -->\r\n",
      "<!-- a padding to disable MSIE and Chrome friendly error page -->\r\n",
      "<!-- a padding to disable MSIE and Chrome friendly error page -->\r\n",
      "\n",
      "<Response [405]>\n"
     ]
    }
   ],
   "source": [
    "import requests\n",
    "import random\n",
    "import json\n",
    "import hashlib\n",
    "\n",
    "\n",
    "headers = {\n",
    "    \"Accept\": \"application/json, text/javascript, */*; q=0.01\",\n",
    "    \"Accept-Language\": \"zh-CN,zh;q=0.9\",\n",
    "    \"Cache-Control\": \"no-cache\",\n",
    "    \"Connection\": \"keep-alive\",\n",
    "    \"Pragma\": \"no-cache\",\n",
    "    \"Referer\": \"https://www.doyo.cn/passport/login?next=https://www.doyo.cn/\",\n",
    "    \"Sec-Fetch-Dest\": \"empty\",\n",
    "    \"Sec-Fetch-Mode\": \"cors\",\n",
    "    \"Sec-Fetch-Site\": \"same-origin\",\n",
    "    \"User-Agent\": \"Mozilla/5.0 (Windows NT 10.0; Win64; x64) AppleWebKit/537.36 (KHTML, like Gecko) Chrome/127.0.0.0 Safari/537.36\",\n",
    "    \"X-Requested-With\": \"XMLHttpRequest\",\n",
    "    \"sec-ch-ua\": \"\\\"Not)A;Brand\\\";v=\\\"99\\\", \\\"Google Chrome\\\";v=\\\"127\\\", \\\"Chromium\\\";v=\\\"127\\\"\",\n",
    "    \"sec-ch-ua-mobile\": \"?0\",\n",
    "    \"sec-ch-ua-platform\": \"\\\"Windows\\\"\"\n",
    "}\n",
    "cookies = {\n",
    "    \"acw_tc\": \"7515b28517236890157632387e70906a474c91fcbe5b0c911f7a222228\",\n",
    "    \"cdn_sec_tc\": \"7515b28517236890157632387e70906a474c91fcbe5b0c911f7a222228\",\n",
    "    \"doyo_www_uv_mark\": \"true\",\n",
    "    \"Hm_lvt_1824f651627b87767a2b276a741e7cfc\": \"1723689020\",\n",
    "    \"HMACCOUNT\": \"B1DE34C64891B8C0\",\n",
    "    \"Hm_lvt_b0affa74a0ef00f793803b2ae8a25f8a\": \"1723689020\",\n",
    "    \"Hm_lpvt_1824f651627b87767a2b276a741e7cfc\": \"1723689115\",\n",
    "    \"PHPSESSID\": \"80vau2bq0a51rnqv0get4f7f07\",\n",
    "    \"Hm_lpvt_b0affa74a0ef00f793803b2ae8a25f8a\": \"1723690187\"\n",
    "}\n",
    "url = \"https://www.doyo.cn/User/Passport/token\"\n",
    "params = {\n",
    "    \"username\": \"abandon\",\n",
    "    \"random\": str(random.uniform(0, 1))\n",
    "}\n",
    "response = requests.get(url, headers=headers, cookies=cookies, params=params)\n",
    "if response.status_code == 200:\n",
    "    res = json.loads(response.text)\n",
    "    nonce = res['nonce']\n",
    "    ts = res['ts']\n",
    "\n",
    "    password = 'asd123123'\n",
    "    sha1_hash = hashlib.sha1()\n",
    "    pwd = sha1_hash.update(password.encode('utf-8'))\n",
    "    digest = sha1_hash.hexdigest()\n",
    "    pwd = sha1_hash.update((nonce + str(ts) + str(digest)).encode('utf-8'))\n",
    "    pwd = sha1_hash.hexdigest()\n",
    "    # print(digest)\n",
    "\n",
    "    headers = {\n",
    "        \"Accept\": \"application/json, text/javascript, */*; q=0.01\",\n",
    "        \"Accept-Language\": \"zh-CN,zh;q=0.9\",\n",
    "        \"Cache-Control\": \"no-cache\",\n",
    "        \"Connection\": \"keep-alive\",\n",
    "        \"Content-Type\": \"application/x-www-form-urlencoded; charset=UTF-8\",\n",
    "        \"Origin\": \"https://www.doyo.cn\",\n",
    "        \"Pragma\": \"no-cache\",\n",
    "        \"Referer\": \"https://www.doyo.cn/passport/login?next=https://www.doyo.cn/\",\n",
    "        \"Sec-Fetch-Dest\": \"empty\",\n",
    "        \"Sec-Fetch-Mode\": \"cors\",\n",
    "        \"Sec-Fetch-Site\": \"same-origin\",\n",
    "        \"User-Agent\": \"Mozilla/5.0 (Windows NT 10.0; Win64; x64) AppleWebKit/537.36 (KHTML, like Gecko) Chrome/127.0.0.0 Safari/537.36\",\n",
    "        \"X-Requested-With\": \"XMLHttpRequest\",\n",
    "        \"sec-ch-ua\": \"\\\"Not)A;Brand\\\";v=\\\"99\\\", \\\"Google Chrome\\\";v=\\\"127\\\", \\\"Chromium\\\";v=\\\"127\\\"\",\n",
    "        \"sec-ch-ua-mobile\": \"?0\",\n",
    "        \"sec-ch-ua-platform\": \"\\\"Windows\\\"\"\n",
    "    }\n",
    "    cookies = {\n",
    "        \"acw_tc\": \"7515b28517236890157632387e70906a474c91fcbe5b0c911f7a222228\",\n",
    "        \"cdn_sec_tc\": \"7515b28517236890157632387e70906a474c91fcbe5b0c911f7a222228\",\n",
    "        \"doyo_www_uv_mark\": \"true\",\n",
    "        \"Hm_lvt_1824f651627b87767a2b276a741e7cfc\": \"1723689020\",\n",
    "        \"HMACCOUNT\": \"B1DE34C64891B8C0\",\n",
    "        \"Hm_lvt_b0affa74a0ef00f793803b2ae8a25f8a\": \"1723689020\",\n",
    "        \"Hm_lpvt_1824f651627b87767a2b276a741e7cfc\": \"1723689115\",\n",
    "        \"PHPSESSID\": \"80vau2bq0a51rnqv0get4f7f07\",\n",
    "        \"Hm_lpvt_b0affa74a0ef00f793803b2ae8a25f8a\": \"1723691087\"\n",
    "    }\n",
    "    url = \"https://www.doyo.cn/User/Passport/login\"\n",
    "    data = {\n",
    "        # \"username\": \"abandon\",\n",
    "        # \"password\": \"0c3c5bae3d65b5a06ef7ab51c8d6cb664cd74ee9\",\n",
    "        \"remberme\": \"1\",\n",
    "        \"next\": \"aHR0cHMlM0ElMkYlMkZ3d3cuZG95by5jbiUyRg==\"\n",
    "    }\n",
    "    response = requests.post(url, headers=headers, cookies=cookies, data=data)\n",
    "    data.update({'username':'abandon','password':pwd})\n",
    "\n",
    "    print(response.text)\n",
    "    print(response)\n",
    "else:\n",
    "    print(response.status_code)"
   ],
   "metadata": {
    "collapsed": false,
    "ExecuteTime": {
     "end_time": "2024-08-15T03:28:18.463316Z",
     "start_time": "2024-08-15T03:28:14.115062100Z"
    }
   }
  },
  {
   "cell_type": "markdown",
   "source": [
    "### Charles许可证"
   ],
   "metadata": {
    "collapsed": false
   }
  },
  {
   "cell_type": "code",
   "execution_count": 4,
   "outputs": [
    {
     "name": "stdout",
     "output_type": "stream",
     "text": [
      "生成注册码：556063e4ca8f9a0f0a\n"
     ]
    }
   ],
   "source": [
    "import execjs\n",
    "\n",
    "with open('charlesLicense.js', 'r', encoding='utf-8') as file:\n",
    "    js = file.read()\n",
    "\n",
    "\n",
    "username = input(\"输入用户名：\")\n",
    "# licenseKey = execjs.compile(js).call('getKey', username)\n",
    "context = execjs.compile(js)\n",
    "licenseKey = context.call('getCharlesLicense', username)\n",
    "print('生成注册码：' + licenseKey)"
   ],
   "metadata": {
    "collapsed": false,
    "ExecuteTime": {
     "end_time": "2024-08-15T05:34:39.809529400Z",
     "start_time": "2024-08-15T05:34:35.559978700Z"
    }
   }
  },
  {
   "cell_type": "markdown",
   "source": [
    "### B站视频链接"
   ],
   "metadata": {
    "collapsed": false
   }
  },
  {
   "cell_type": "code",
   "execution_count": 17,
   "outputs": [
    {
     "name": "stdout",
     "output_type": "stream",
     "text": [
      "{\"status\":200,\"success\":true,\"message\":\"操作成功\",\"data\":{\"code\":200,\"msg\":null,\"voideDeatilVoList\":[{\"url\":\"https://upos-sz-mirrorcos.bilivideo.com/upgcxcode/33/51/1635115133/1635115133-1-192.mp4?e=ig8euxZM2rNcNbRVhwdVhwdlhWdVhwdVhoNvNC8BqJIzNbfq9rVEuxTEnE8L5F6VnEsSTx0vkX8fqJeYTj_lta53NCM=&uipk=5&nbs=1&deadline=1723714193&gen=playurlv2&os=cosbv&oi=2882929856&trid=ab71d776b7c547e0919add28d00af480T&mid=628487182&platform=html5&og=cos&upsig=7e7ebb41a807b813ff98e944e46fe733&uparams=e,uipk,nbs,deadline,gen,os,oi,trid,mid,platform,og&bvc=vod&nettype=0&bw=63233&orderid=0,1&buvid=&build=0&mobi_app=&f=T_0_0&logo=80000000\",\"title\":\"【面试热点】“网红打假”你怎么处理？\",\"type\":\"video\"}],\"resultJson\":null,\"platform\":\"bilibili\",\"parseUrl\":null,\"remark\":null,\"title\":\"【面试热点】“网红打假”你怎么处理？\",\"coverUrls\":null,\"videoUrls\":null,\"leftTimes\":null,\"isVideo\":null,\"like\":null,\"comment\":null,\"collect\":null,\"shareCount\":null,\"createTime\":null},\"time\":\"2024-08-15 17:17:29\"}\n",
      "<Response [200]>\n"
     ]
    }
   ],
   "source": [
    "import requests\n",
    "import json\n",
    "import time\n",
    "import execjs\n",
    "\n",
    "current_milliseconds_timestamp = str(round(time.time() * 1000))\n",
    "\n",
    "headers = {\n",
    "    \"accept\": \"application/json, text/javascript, */*; q=0.01\",\n",
    "    \"accept-language\": \"zh-CN,zh;q=0.9\",\n",
    "    \"authorization\": \"null\",\n",
    "    \"cache-control\": \"no-cache\",\n",
    "    \"content-type\": \"application/json\",\n",
    "    \"origin\": \"https://www.xiazaitool.com\",\n",
    "    \"pragma\": \"no-cache\",\n",
    "    \"priority\": \"u=1, i\",\n",
    "    \"referer\": \"https://www.xiazaitool.com/blbl\",\n",
    "    \"sec-ch-ua\": \"\\\"Not)A;Brand\\\";v=\\\"99\\\", \\\"Google Chrome\\\";v=\\\"127\\\", \\\"Chromium\\\";v=\\\"127\\\"\",\n",
    "    \"sec-ch-ua-mobile\": \"?0\",\n",
    "    \"sec-ch-ua-platform\": \"\\\"Windows\\\"\",\n",
    "    \"sec-fetch-dest\": \"empty\",\n",
    "    \"sec-fetch-mode\": \"cors\",\n",
    "    \"sec-fetch-site\": \"same-origin\",\n",
    "    \"timestam\": current_milliseconds_timestamp,\n",
    "    \"user-agent\": \"Mozilla/5.0 (Windows NT 10.0; Win64; x64) AppleWebKit/537.36 (KHTML, like Gecko) Chrome/127.0.0.0 Safari/537.36\",\n",
    "    \"x-requested-with\": \"XMLHttpRequest\"\n",
    "}\n",
    "cookies = {\n",
    "    \"Hm_lvt_057901c4864e18220f403e79d3fc537c\": \"1723708527\",\n",
    "    \"HMACCOUNT\": \"B1DE34C64891B8C0\",\n",
    "    \"Hm_lpvt_057901c4864e18220f403e79d3fc537c\": \"1723708659\"\n",
    "}\n",
    "\n",
    "url = \"https://www.xiazaitool.com/video/parseVideoUrl\"\n",
    "link = \"https://www.bilibili.com/video/BV1HU411S7dL/\"\n",
    "\n",
    "with open('AES.js', 'r', encoding='utf-8') as file:\n",
    "    js = file.read()\n",
    "dic_param = {\"url\":link,\"platform\":\"bilibili\"}\n",
    "params = execjs.compile(js).call('encrypt', str(dic_param))\n",
    "\n",
    "data = {\n",
    "    \"url\": link,\n",
    "    \"platform\": \"bilibili\",\n",
    "    \"params\": params\n",
    "}\n",
    "data = json.dumps(data, separators=(',', ':'))\n",
    "response = requests.post(url, headers=headers, cookies=cookies, data=data)\n",
    "\n",
    "print(response.text)\n",
    "print(response)"
   ],
   "metadata": {
    "collapsed": false,
    "ExecuteTime": {
     "end_time": "2024-08-15T09:17:28.011418300Z",
     "start_time": "2024-08-15T09:17:22.812862900Z"
    }
   }
  },
  {
   "cell_type": "code",
   "execution_count": 25,
   "outputs": [],
   "source": [
    "res = json.loads(response.text)\n",
    "title = res['data']['title']\n",
    "video_url = res['data']['voideDeatilVoList'][0]['url']\n",
    "createTime = res['time']\n"
   ],
   "metadata": {
    "collapsed": false,
    "ExecuteTime": {
     "end_time": "2024-08-15T09:33:32.901296800Z",
     "start_time": "2024-08-15T09:33:32.875300600Z"
    }
   }
  },
  {
   "cell_type": "code",
   "execution_count": 26,
   "outputs": [],
   "source": [
    "response = requests.get(video_url)\n",
    "with open(f\"{title}.mp4\", \"wb\") as file:\n",
    "    file.write(response.content)"
   ],
   "metadata": {
    "collapsed": false,
    "ExecuteTime": {
     "end_time": "2024-08-15T09:34:13.641721500Z",
     "start_time": "2024-08-15T09:34:10.591564500Z"
    }
   }
  }
 ],
 "metadata": {
  "kernelspec": {
   "display_name": "Python 3 (ipykernel)",
   "language": "python",
   "name": "python3"
  },
  "language_info": {
   "codemirror_mode": {
    "name": "ipython",
    "version": 3
   },
   "file_extension": ".py",
   "mimetype": "text/x-python",
   "name": "python",
   "nbconvert_exporter": "python",
   "pygments_lexer": "ipython3",
   "version": "3.12.3"
  }
 },
 "nbformat": 4,
 "nbformat_minor": 4
}
